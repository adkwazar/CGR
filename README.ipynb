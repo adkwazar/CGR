{
 "cells": [
  {
   "cell_type": "markdown",
   "metadata": {},
   "source": [
    "<h3> Chaos Game Gepresentation for biological sequence analysis </h3>\n",
    "    \n",
    "Here, I implemented the Chaos Game Representation (CGR) for DNA, RNA and protein sequences in Python. For a given sequence, a user may create, plot or save the appropriate representation. Additionally:\n",
    "- In the case of RNA, the secondary structure may be included (in Vienna format).\n",
    "- In the case of protein, a user may use an outer representation (it is possible to specify the 2D features used to describe amino acids; by default, there are hydrophobicity and hydrophilicity). It is also possible to generate the representation using the embedding concept from natural language processing. For this purpose, an example network is presented.\n",
    "\n",
    "If a user specifies the representation for proteins, it should be provided in the following amino acids order:\n",
    "\n",
    "ACDEFGHIKLMNPQRSTVWY\n",
    "\n",
    "as a list of lists.\n",
    "\n",
    "\n",
    "Moreover, it is possible to generate the phylogenetic tree according to CGR and Discrete Fourier Transform (DFT). To illustrate how to use these functionalities, there is an Example.ipynb file."
   ]
  }
 ],
 "metadata": {
  "kernelspec": {
   "display_name": "Python 3",
   "language": "python",
   "name": "python3"
  },
  "language_info": {
   "codemirror_mode": {
    "name": "ipython",
    "version": 3
   },
   "file_extension": ".py",
   "mimetype": "text/x-python",
   "name": "python",
   "nbconvert_exporter": "python",
   "pygments_lexer": "ipython3",
   "version": "3.8.5"
  }
 },
 "nbformat": 4,
 "nbformat_minor": 4
}
