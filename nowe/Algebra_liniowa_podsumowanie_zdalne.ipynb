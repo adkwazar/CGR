{
 "cells": [
  {
   "cell_type": "markdown",
   "metadata": {},
   "source": [
    "Autor: Adrian Kania, ćwiczenia "
   ]
  },
  {
   "cell_type": "markdown",
   "metadata": {},
   "source": [
    "<h3> Matematyka stosowana"
   ]
  },
  {
   "cell_type": "markdown",
   "metadata": {},
   "source": [
    "<h4> Przydatne strony:\n",
    "    <br>\n",
    "    \n",
    "    \n",
    "- https://www.desmos.com/calculator?lang=pl (rysowanie wykresów) \n",
    "- https://www.wolframalpha.com/ (ogólne obliczenia matematyczne - w tym granice, pochodne, całki)\n",
    "- https://matrix.reshish.com/ (obliczenia dedykowane macierzom)\n",
    "- https://matrixcalc.org/ (obliczenia dedykowane macierzom)\n",
    "- https://www.symbolab.com/solver (rozbudowane obliczenia matematyczne)"
   ]
  },
  {
   "cell_type": "markdown",
   "metadata": {},
   "source": [
    "<h4> Zewnętrzna biblioteka do pracy z wektorami/macierzami"
   ]
  },
  {
   "cell_type": "code",
   "execution_count": 1,
   "metadata": {},
   "outputs": [],
   "source": [
    "import numpy as np "
   ]
  },
  {
   "cell_type": "code",
   "execution_count": 2,
   "metadata": {},
   "outputs": [
    {
     "name": "stdout",
     "output_type": "stream",
     "text": [
      "[ 3  0 -4]\n"
     ]
    }
   ],
   "source": [
    "#definiujemy wektor v\n",
    "\n",
    "v = np.array([3,0,-4])\n",
    "print(v)"
   ]
  },
  {
   "cell_type": "markdown",
   "metadata": {},
   "source": [
    "<h4> Długość wektora"
   ]
  },
  {
   "cell_type": "code",
   "execution_count": 3,
   "metadata": {},
   "outputs": [
    {
     "name": "stdout",
     "output_type": "stream",
     "text": [
      "5.0\n"
     ]
    }
   ],
   "source": [
    "dlugosc_v = np.linalg.norm(v)\n",
    "print(dlugosc_v)"
   ]
  },
  {
   "cell_type": "markdown",
   "metadata": {},
   "source": [
    "<h4> Operacje na wektorach"
   ]
  },
  {
   "cell_type": "code",
   "execution_count": 4,
   "metadata": {},
   "outputs": [],
   "source": [
    "#definiujemy dwa wektory\n",
    "\n",
    "v1 = np.array([1,2,5])\n",
    "v2 = np.array([-5,0,-1])"
   ]
  },
  {
   "cell_type": "code",
   "execution_count": 5,
   "metadata": {},
   "outputs": [
    {
     "name": "stdout",
     "output_type": "stream",
     "text": [
      "[-4  2  4]\n"
     ]
    }
   ],
   "source": [
    "print(v1+v2) #suma wektorow"
   ]
  },
  {
   "cell_type": "code",
   "execution_count": 6,
   "metadata": {},
   "outputs": [
    {
     "name": "stdout",
     "output_type": "stream",
     "text": [
      "[6 2 6]\n"
     ]
    }
   ],
   "source": [
    "print(v1-v2) #roznica wektorow"
   ]
  },
  {
   "cell_type": "code",
   "execution_count": 7,
   "metadata": {},
   "outputs": [
    {
     "name": "stdout",
     "output_type": "stream",
     "text": [
      "[ 5 10 25]\n"
     ]
    }
   ],
   "source": [
    "print(5*v1) #mnozenie wektora przez skalar (tutaj: wektor v1 przemnozomy przez 5)"
   ]
  },
  {
   "cell_type": "code",
   "execution_count": 8,
   "metadata": {},
   "outputs": [
    {
     "data": {
      "text/plain": [
       "-10"
      ]
     },
     "execution_count": 8,
     "metadata": {},
     "output_type": "execute_result"
    }
   ],
   "source": [
    "np.dot(v1,v2) #iloczyn skalarny wektora v1 i v2"
   ]
  },
  {
   "cell_type": "code",
   "execution_count": 9,
   "metadata": {},
   "outputs": [
    {
     "data": {
      "text/plain": [
       "8.717797887081348"
      ]
     },
     "execution_count": 9,
     "metadata": {},
     "output_type": "execute_result"
    }
   ],
   "source": [
    "np.linalg.norm(v1-v2) #odleglosc euklidesowa pomiędzy wektorami"
   ]
  },
  {
   "cell_type": "code",
   "execution_count": 10,
   "metadata": {},
   "outputs": [
    {
     "data": {
      "text/plain": [
       "-0.35805743701971643"
      ]
     },
     "execution_count": 10,
     "metadata": {},
     "output_type": "execute_result"
    }
   ],
   "source": [
    "np.dot(v1,v2)/(np.linalg.norm(v1)*np.linalg.norm(v2)) #cosinus kąta pomiędzy wektorami"
   ]
  },
  {
   "cell_type": "markdown",
   "metadata": {},
   "source": [
    "<h4> Liniowa zależność"
   ]
  },
  {
   "cell_type": "code",
   "execution_count": 9,
   "metadata": {},
   "outputs": [
    {
     "data": {
      "text/plain": [
       "array([ True,  True,  True])"
      ]
     },
     "execution_count": 9,
     "metadata": {},
     "output_type": "execute_result"
    }
   ],
   "source": [
    "#Przykład: Wektor a jest liniową kombinacją wektorów b i c ponieważ a = -2*b + 5*c\n",
    "\n",
    "a = np.array([8, 1, 4])\n",
    "b = np.array([1,7,8])\n",
    "c = np.array([2,3,4])\n",
    "\n",
    "a == -2*b+5*c"
   ]
  },
  {
   "cell_type": "code",
   "execution_count": 11,
   "metadata": {},
   "outputs": [
    {
     "data": {
      "text/plain": [
       "0"
      ]
     },
     "execution_count": 11,
     "metadata": {},
     "output_type": "execute_result"
    }
   ],
   "source": [
    "#poniższe wektory są prostopadle; ortogonalnosc  --> niezaależność\n",
    "\n",
    "v1 = np.array([1, 2, 1])\n",
    "v2 = np.array([0, -1, 2])\n",
    "\n",
    "np.dot(v1,v2)"
   ]
  },
  {
   "cell_type": "markdown",
   "metadata": {},
   "source": [
    "https://pl.wikipedia.org/wiki/Ortogonalizacja_Grama-Schmidta#:~:text=Ortogonalizacja%20Grama%2DSchmidta%20%E2%80%93%20przekszta%C5%82cenie%20uk%C5%82adu,mo%C5%BCe%20s%C5%82u%C5%BCy%C4%87%20do%20ortogonalizowania%20bazy."
   ]
  },
  {
   "cell_type": "markdown",
   "metadata": {},
   "source": [
    "<h4> Rysowanie prostych wykresów"
   ]
  },
  {
   "cell_type": "code",
   "execution_count": 10,
   "metadata": {},
   "outputs": [],
   "source": [
    "import matplotlib.pyplot as plt"
   ]
  },
  {
   "cell_type": "code",
   "execution_count": 11,
   "metadata": {},
   "outputs": [
    {
     "data": {
      "image/png": "[encoded data removed]",
      "text/plain": [
       "<Figure size 432x288 with 1 Axes>"
      ]
     },
     "metadata": {
      "needs_background": "light"
     },
     "output_type": "display_data"
    }
   ],
   "source": [
    "x = np.linspace(-2,2,100) #100 liczb od -2 do 2    \n",
    "y = x**3-3*x+1           #zadaje formułe funkcji matematycznej\n",
    "\n",
    "plt.plot(x,y)\n",
    "plt.show()"
   ]
  },
  {
   "cell_type": "markdown",
   "metadata": {},
   "source": [
    "<h4> Szukanie pierwiastków wielomianów"
   ]
  },
  {
   "cell_type": "code",
   "execution_count": 12,
   "metadata": {},
   "outputs": [
    {
     "data": {
      "text/plain": [
       "array([-1.87938524,  1.53208889,  0.34729636])"
      ]
     },
     "execution_count": 12,
     "metadata": {},
     "output_type": "execute_result"
    }
   ],
   "source": [
    "coeff = [1,0,-3,1] #reprezentuje wielomian 1x^3+0x^2-3x+1\n",
    "np.roots(coeff)"
   ]
  },
  {
   "cell_type": "code",
   "execution_count": 13,
   "metadata": {},
   "outputs": [
    {
     "data": {
      "text/plain": [
       "array([3.+2.j, 3.-2.j, 3.+0.j])"
      ]
     },
     "execution_count": 13,
     "metadata": {},
     "output_type": "execute_result"
    }
   ],
   "source": [
    "coeff = [1,-9,31,-39] #wielomian z zadania1 z ćwiczenia1\n",
    "np.roots(coeff)"
   ]
  },
  {
   "cell_type": "markdown",
   "metadata": {},
   "source": [
    "<h4> Ćwiczenie: Znajdź miejsca zerowe równania $x^8+7x+1=0$."
   ]
  },
  {
   "cell_type": "markdown",
   "metadata": {},
   "source": [
    "<h4> Macierze i działania na macierzach"
   ]
  },
  {
   "cell_type": "code",
   "execution_count": 14,
   "metadata": {},
   "outputs": [],
   "source": [
    "#Rowiąż równanie XA + XB = 18I <=> X(A+B) = 18I <=> X = 18I*(A+B)^-1 //zad10cw3"
   ]
  },
  {
   "cell_type": "code",
   "execution_count": 15,
   "metadata": {},
   "outputs": [
    {
     "name": "stdout",
     "output_type": "stream",
     "text": [
      "[[ 30. -24.]\n",
      " [-18.  18.]]\n"
     ]
    }
   ],
   "source": [
    "import numpy as np\n",
    "\n",
    "A = np.array([[2,3],[1,2]]); B = np.array([[1,1], [2,3]]); I = np.array([[1,0],[0,1]])\n",
    "X = np.dot(18*I, np.linalg.inv(A+B))\n",
    "print(X)"
   ]
  },
  {
   "cell_type": "markdown",
   "metadata": {},
   "source": [
    "<h4> Rozwiązywanie układu równań liniowych"
   ]
  },
  {
   "cell_type": "code",
   "execution_count": 16,
   "metadata": {},
   "outputs": [
    {
     "name": "stdout",
     "output_type": "stream",
     "text": [
      "[ 2.20833333 -2.58333333 -0.18333333]\n"
     ]
    }
   ],
   "source": [
    "import numpy as np\n",
    "'''\n",
    "4x+3y-5z = 2\n",
    "-2x-4y+5z = 5\n",
    "8x+8y+0z = -3\n",
    "\n",
    "'''\n",
    "A = np.array([[4, 3, -5], \n",
    "              [-2, -4, 5], \n",
    "              [8, 8, 0]])\n",
    "\n",
    "y = np.array([2, 5, -3])\n",
    "\n",
    "x = np.linalg.solve(A, y)\n",
    "print(x)"
   ]
  },
  {
   "cell_type": "code",
   "execution_count": 17,
   "metadata": {},
   "outputs": [
    {
     "name": "stdout",
     "output_type": "stream",
     "text": [
      "[ 2.20833333 -2.58333333 -0.18333333]\n"
     ]
    }
   ],
   "source": [
    "#inna metoda                \n",
    "\n",
    "A_inv = np.linalg.inv(A)\n",
    "\n",
    "x = np.dot(A_inv, y)\n",
    "print(x)"
   ]
  },
  {
   "cell_type": "markdown",
   "metadata": {},
   "source": [
    "<h4> Wartości i wektory własne"
   ]
  },
  {
   "cell_type": "code",
   "execution_count": 18,
   "metadata": {},
   "outputs": [
    {
     "name": "stdout",
     "output_type": "stream",
     "text": [
      "E-value: [1.+2.j 1.-2.j 1.+0.j]\n",
      "E-vector [[ 0.        -0.53452248j  0.        +0.53452248j  0.        +0.j        ]\n",
      " [-0.26726124-0.j         -0.26726124+0.j         -0.70710678+0.j        ]\n",
      " [-0.80178373+0.j         -0.80178373-0.j          0.70710678+0.j        ]]\n"
     ]
    }
   ],
   "source": [
    "import numpy as np                      \n",
    "\n",
    "A = np.array([[1, -1,-1], \n",
    "              [1, 1, 0],\n",
    "              [3, 0, 1]])\n",
    "w, v = np.linalg.eig(A)\n",
    "print('E-value:', w)\n",
    "print('E-vector', v)"
   ]
  },
  {
   "cell_type": "markdown",
   "metadata": {},
   "source": [
    "<h4> Zastosowanie wartości i wektorów własnych "
   ]
  },
  {
   "cell_type": "markdown",
   "metadata": {},
   "source": [
    "- Idea PCA"
   ]
  },
  {
   "cell_type": "code",
   "execution_count": 19,
   "metadata": {},
   "outputs": [
    {
     "data": {
      "image/png": "[encoded data removed]",
      "text/plain": [
       "<Figure size 216x432 with 1 Axes>"
      ]
     },
     "metadata": {
      "needs_background": "light"
     },
     "output_type": "display_data"
    }
   ],
   "source": [
    "import matplotlib.pyplot as plt\n",
    "import numpy as np\n",
    "\n",
    "srednia = np.array([1,2])\n",
    "M = np.array([[1,1.1],[1.1,4]])\n",
    "dane = np.random.multivariate_normal(srednia, M, 10000)\n",
    "x = dane[:,0]\n",
    "y = dane[:,1]\n",
    "\n",
    "fig, ax = plt.subplots(figsize=(3,6))\n",
    "\n",
    "plt.scatter(x,y, s=0.3)\n",
    "plt.show()"
   ]
  },
  {
   "cell_type": "code",
   "execution_count": 20,
   "metadata": {},
   "outputs": [
    {
     "name": "stdout",
     "output_type": "stream",
     "text": [
      "[[1.01274733 1.08859938]\n",
      " [1.08859938 4.01263481]]\n"
     ]
    }
   ],
   "source": [
    "MK = np.cov(x,y) #macierz kowariancji (będzie o tym jeszcze w przyszlosci), zawiera informacje o rozrzucie zmiennych (x oraz y) oraz kowariancji miedzy x i y\n",
    "print(MK)"
   ]
  },
  {
   "cell_type": "code",
   "execution_count": 21,
   "metadata": {},
   "outputs": [
    {
     "name": "stdout",
     "output_type": "stream",
     "text": [
      "E-value: [0.65934819 4.36603395]\n",
      "E-vector [[-0.95113564 -0.30877339]\n",
      " [ 0.30877339 -0.95113564]]\n"
     ]
    }
   ],
   "source": [
    "w, v = np.linalg.eig(MK)\n",
    "print('E-value:', w)\n",
    "print('E-vector', v)"
   ]
  },
  {
   "cell_type": "code",
   "execution_count": 22,
   "metadata": {},
   "outputs": [
    {
     "data": {
      "image/png": "[encoded data removed]",
      "text/plain": [
       "<Figure size 432x432 with 1 Axes>"
      ]
     },
     "metadata": {
      "needs_background": "light"
     },
     "output_type": "display_data"
    }
   ],
   "source": [
    "X = np.array([1,1])\n",
    "Y= np.array([2,2])\n",
    "U = np.array([w[0]*v[:,0][0],w[1]*v[:,1][0]]) #wektory wlasne dodatkowo przemnozylem przez odpowiadajace im wartosci wlasne\n",
    "V = np.array([w[0]*v[:,0][1],w[1]*v[:,1][1]]) #przez to widac, ktory kierunek jest wazniejszy\n",
    "\n",
    "fig, ax = plt.subplots(figsize=(6, 6))\n",
    "ax.scatter(x,y, s=2, marker =\"x\")\n",
    "q = ax.quiver(X, Y, U, V,units='xy' ,scale=1)\n",
    "plt.grid()\n",
    "ax.set_aspect('equal')\n",
    "plt.show()"
   ]
  },
  {
   "cell_type": "markdown",
   "metadata": {},
   "source": [
    "- Algorytm PageRank (idea)"
   ]
  },
  {
   "cell_type": "markdown",
   "metadata": {},
   "source": [
    "Rozważamy 6 stron internetowych - indeksowanych jako 1,2,3,4,5 oraz 6 (z konkretnej tematyki). Pomiędzy stronami istnieją linkowania:\n",
    "\n",
    "- strona 1 poleca: 2,4,5,6\n",
    "- strona 2 poleca: 3,4\n",
    "- strona 3 poleca: 5\n",
    "- strona 4 poleca: 5\n",
    "- strona 5 poleca: 1,4\n",
    "- strona 6 poleca: 5\n",
    "\n",
    "Pytanie: Która strona powinna pojawić się jako pierwsza przy przeszukiwaniu?"
   ]
  },
  {
   "cell_type": "code",
   "execution_count": 23,
   "metadata": {},
   "outputs": [
    {
     "name": "stdout",
     "output_type": "stream",
     "text": [
      "[[0.   0.   0.   0.   0.5  0.  ]\n",
      " [0.25 0.   0.   0.   0.   0.  ]\n",
      " [0.   0.5  0.   0.   0.   0.  ]\n",
      " [0.25 0.5  0.   0.   0.5  0.  ]\n",
      " [0.25 0.   1.   1.   0.   1.  ]\n",
      " [0.25 0.   0.   0.   0.   0.  ]]\n"
     ]
    }
   ],
   "source": [
    "#sytuacje te mozna zapisac za pomocą macierzy\n",
    "A = np.array([[0,0,0,0,0.5,0],[0.25,0,0,0,0,0],[0,0.5,0,0,0,0],[0.25,0.5,0,0,0.5,0],[0.25,0,1,1,0,1],[0.25,0,0,0,0,0]])\n",
    "print(A)"
   ]
  },
  {
   "cell_type": "markdown",
   "metadata": {},
   "source": [
    "Zauważ, że  kolumny sumują się do 1."
   ]
  },
  {
   "cell_type": "code",
   "execution_count": 24,
   "metadata": {},
   "outputs": [
    {
     "name": "stdout",
     "output_type": "stream",
     "text": [
      "[ 1.00000000e+00+0.j         -1.39845075e-01+0.39240258j\n",
      " -1.39845075e-01-0.39240258j -7.20309850e-01+0.j\n",
      "  6.27089983e-17+0.j         -2.02451367e-17+0.j        ]\n"
     ]
    }
   ],
   "source": [
    "lam, v = np.linalg.eig(A) \n",
    "print(lam)"
   ]
  },
  {
   "cell_type": "markdown",
   "metadata": {},
   "source": [
    "Zastanów się dlaczego tego typu macierz zawsze będzie miała wartość własną 1."
   ]
  },
  {
   "cell_type": "markdown",
   "metadata": {},
   "source": [
    "A i A^T mają te same wartosci wlasne, A^T ma wektor wlasny [1,....1] dla lam=1"
   ]
  },
  {
   "cell_type": "code",
   "execution_count": 25,
   "metadata": {},
   "outputs": [
    {
     "data": {
      "image/png": "[encoded data removed]",
      "text/plain": [
       "<Figure size 432x288 with 1 Axes>"
      ]
     },
     "metadata": {
      "needs_background": "light"
     },
     "output_type": "display_data"
    }
   ],
   "source": [
    "#zamiana wspolrzednych na biegunowe\n",
    "def polar(z):\n",
    "    a= z.real #mozna powiedziec, ze to wspolrzedna x wektora\n",
    "    b= z.imag #wspolrzedna y wektora\n",
    "    \n",
    "    #wsp. biegun.\n",
    "    r = np.sqrt(a**2+b**2) #promień\n",
    "    theta = np.arctan2(b,a) #kąt\n",
    "    return r,theta \n",
    "\n",
    "\n",
    "for x in lam:\n",
    "    plt.polar([0,polar(x)[1]],[0,polar(x)[0]],marker='o')"
   ]
  },
  {
   "cell_type": "markdown",
   "metadata": {},
   "source": [
    "Wniosek: Wartości własne leżą w obrębie koła jednostkowego (jest to ogólna własność tego typu macierzy)"
   ]
  },
  {
   "cell_type": "code",
   "execution_count": 26,
   "metadata": {},
   "outputs": [
    {
     "data": {
      "text/plain": [
       "array([1.00000000e+00, 4.16577040e-01, 4.16577040e-01, 7.20309850e-01,\n",
       "       6.27089983e-17, 2.02451367e-17])"
      ]
     },
     "execution_count": 26,
     "metadata": {},
     "output_type": "execute_result"
    }
   ],
   "source": [
    "np.abs(lam) #wybieramy największą wartosc własną (zawsze to będzie lambda = 1)"
   ]
  },
  {
   "cell_type": "code",
   "execution_count": 27,
   "metadata": {},
   "outputs": [
    {
     "data": {
      "text/plain": [
       "array([0.37712362, 0.0942809 , 0.04714045, 0.51854497, 0.75424723,\n",
       "       0.0942809 ])"
      ]
     },
     "execution_count": 27,
     "metadata": {},
     "output_type": "execute_result"
    }
   ],
   "source": [
    "np.abs(v[:,0]) #wybieramy wektor własny odpowiadający tej wartości własnej --> ranking stron: 5,4,1,3.. "
   ]
  },
  {
   "cell_type": "markdown",
   "metadata": {},
   "source": [
    "Zwróć uwagę na strony 1 oraz 3. Poleca je taka sama liczba stron, jednak strony te są różnej popularności."
   ]
  }
 ],
 "metadata": {
  "kernelspec": {
   "display_name": "Python 3",
   "language": "python",
   "name": "python3"
  },
  "language_info": {
   "codemirror_mode": {
    "name": "ipython",
    "version": 3
   },
   "file_extension": ".py",
   "mimetype": "text/x-python",
   "name": "python",
   "nbconvert_exporter": "python",
   "pygments_lexer": "ipython3",
   "version": "3.8.5"
  }
 },
 "nbformat": 4,
 "nbformat_minor": 4
}
