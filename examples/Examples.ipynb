{
 "cells": [
  {
   "cell_type": "markdown",
   "metadata": {},
   "source": [
    "<h3> Representations"
   ]
  },
  {
   "cell_type": "code",
   "execution_count": 1,
   "metadata": {},
   "outputs": [],
   "source": [
    "from CGRepresentation import CGR"
   ]
  },
  {
   "cell_type": "markdown",
   "metadata": {},
   "source": [
    "<h4> Example1: Nucleotide (DNA) sequence"
   ]
  },
  {
   "cell_type": "code",
   "execution_count": 2,
   "metadata": {},
   "outputs": [],
   "source": [
    "seq = CGR(\"AATGC\", seq_type = \"DNA\")"
   ]
  },
  {
   "cell_type": "code",
   "execution_count": 3,
   "metadata": {},
   "outputs": [
    {
     "name": "stdout",
     "output_type": "stream",
     "text": [
      "[[ 0.       0.     ]\n",
      " [-0.5     -0.5    ]\n",
      " [-0.75    -0.75   ]\n",
      " [ 0.125    0.125  ]\n",
      " [ 0.5625  -0.4375 ]\n",
      " [-0.21875  0.28125]]\n"
     ]
    }
   ],
   "source": [
    "print(seq.representation())"
   ]
  },
  {
   "cell_type": "code",
   "execution_count": 4,
   "metadata": {},
   "outputs": [
    {
     "data": {
      "image/png": "[encoded data removed]",
      "text/plain": [
       "<Figure size 432x432 with 1 Axes>"
      ]
     },
     "metadata": {
      "needs_background": "light"
     },
     "output_type": "display_data"
    }
   ],
   "source": [
    "seq.plot()"
   ]
  },
  {
   "cell_type": "code",
   "execution_count": 5,
   "metadata": {},
   "outputs": [],
   "source": [
    "seq.save_representation(\"seq1.txt\")"
   ]
  },
  {
   "cell_type": "markdown",
   "metadata": {},
   "source": [
    "<h4> Example2: Nucleotide (RNA) sequence where secondary structure specified"
   ]
  },
  {
   "cell_type": "code",
   "execution_count": 6,
   "metadata": {},
   "outputs": [],
   "source": [
    "seq = CGR(\"AUGCUCAUGCAAAA\", seq_type = \"RNA\", rna_2structure = \".(((....)))...\")"
   ]
  },
  {
   "cell_type": "code",
   "execution_count": 7,
   "metadata": {},
   "outputs": [
    {
     "name": "stdout",
     "output_type": "stream",
     "text": [
      "[[ 0.          0.        ]\n",
      " [-0.5        -0.5       ]\n",
      " [-0.25       -0.25      ]\n",
      " [-0.125      -0.125     ]\n",
      " [-0.0625     -0.0625    ]\n",
      " [ 0.46875     0.46875   ]\n",
      " [-0.265625    0.734375  ]\n",
      " [-0.6328125  -0.1328125 ]\n",
      " [ 0.18359375  0.43359375]\n",
      " [ 0.09179688  0.21679688]\n",
      " [ 0.04589844  0.10839844]\n",
      " [ 0.02294922  0.05419922]\n",
      " [-0.48852539 -0.47290039]\n",
      " [-0.7442627  -0.7364502 ]\n",
      " [-0.87213135 -0.8682251 ]]\n"
     ]
    }
   ],
   "source": [
    "print(seq.representation())"
   ]
  },
  {
   "cell_type": "code",
   "execution_count": 8,
   "metadata": {},
   "outputs": [
    {
     "data": {
      "image/png": "[encoded data removed]",
      "text/plain": [
       "<Figure size 432x432 with 1 Axes>"
      ]
     },
     "metadata": {
      "needs_background": "light"
     },
     "output_type": "display_data"
    }
   ],
   "source": [
    "seq.plot()"
   ]
  },
  {
   "cell_type": "markdown",
   "metadata": {},
   "source": [
    "<h4> Example3: Protein sequence, where coordinates for amino acids are described by the hydrophobicity and hydrophilicity"
   ]
  },
  {
   "cell_type": "code",
   "execution_count": 9,
   "metadata": {},
   "outputs": [],
   "source": [
    "seq = CGR(\"ATMGGAC\", seq_type = \"protein\")"
   ]
  },
  {
   "cell_type": "code",
   "execution_count": 10,
   "metadata": {},
   "outputs": [
    {
     "name": "stdout",
     "output_type": "stream",
     "text": [
      "[[ 3.33066907e-17 -2.15000000e-01]\n",
      " [ 2.02500000e-01 -3.57500000e-01]\n",
      " [ 7.62500000e-02 -3.78750000e-01]\n",
      " [ 3.58125000e-01 -8.39375000e-01]\n",
      " [ 4.19062500e-01 -4.19687500e-01]\n",
      " [ 4.49531250e-01 -2.09843750e-01]\n",
      " [ 5.34765625e-01 -3.54921875e-01]\n",
      " [ 4.12382812e-01 -6.77460938e-01]]\n"
     ]
    }
   ],
   "source": [
    "print(seq.representation())"
   ]
  },
  {
   "cell_type": "code",
   "execution_count": 11,
   "metadata": {},
   "outputs": [
    {
     "data": {
      "image/png": "[encoded data removed]",
      "text/plain": [
       "<Figure size 432x432 with 1 Axes>"
      ]
     },
     "metadata": {
      "needs_background": "light"
     },
     "output_type": "display_data"
    }
   ],
   "source": [
    "seq.plot()"
   ]
  },
  {
   "cell_type": "markdown",
   "metadata": {},
   "source": [
    "<h4> Example4: Protein sequece, where coordinates for amino acids are provided."
   ]
  },
  {
   "cell_type": "code",
   "execution_count": 12,
   "metadata": {},
   "outputs": [],
   "source": [
    "import numpy as np\n",
    "outer_coordinates = np.array([[-3.5599, -0.5085], [-1.2860, -2.3100], [ 0.2950, -0.2534], [-0.4976,  0.6625], [ 0.0602, -1.6506], [-1.3501, -0.9420],[ 0.1233,  0.4319], [ 0.0633, -0.0236], [-0.2673, -0.9768], [ 0.0366, -0.1975], [ 0.8036,  1.5332], [-0.7423,  1.1636], [-0.7040,  1.6346], [ 0.8649,  1.6586], [-1.9871, -0.3538], [-1.3925,  0.1445], [-0.3567,  0.2208], [ 0.6367, -0.8906], [-1.2948,  0.2578], [-0.0574,  0.5357]])\n",
    "seq = CGR(\"ATMGGAC\", seq_type = \"protein\", outer_representation = outer_coordinates)"
   ]
  },
  {
   "cell_type": "code",
   "execution_count": 13,
   "metadata": {},
   "outputs": [
    {
     "name": "stdout",
     "output_type": "stream",
     "text": [
      "[[-0.530605    0.00682   ]\n",
      " [-1.77654    -0.25084   ]\n",
      " [-1.06662    -0.01502   ]\n",
      " [-0.13151     0.75909   ]\n",
      " [-0.740805   -0.091455  ]\n",
      " [-1.0454525  -0.5167275 ]\n",
      " [-2.30267625 -0.51261375]\n",
      " [-1.79433813 -1.41130687]]\n"
     ]
    }
   ],
   "source": [
    "print(seq.representation())"
   ]
  },
  {
   "cell_type": "code",
   "execution_count": 14,
   "metadata": {},
   "outputs": [
    {
     "data": {
      "image/png": "[encoded data removed]",
      "text/plain": [
       "<Figure size 432x432 with 1 Axes>"
      ]
     },
     "metadata": {
      "needs_background": "light"
     },
     "output_type": "display_data"
    }
   ],
   "source": [
    "seq.plot()"
   ]
  },
  {
   "cell_type": "markdown",
   "metadata": {},
   "source": [
    "<h3> Phylogenetic trees construction "
   ]
  },
  {
   "cell_type": "code",
   "execution_count": 15,
   "metadata": {},
   "outputs": [],
   "source": [
    "from DFTree import dtree #based on DFT"
   ]
  },
  {
   "cell_type": "markdown",
   "metadata": {},
   "source": [
    "<h4> Example5 (ND5 protein)"
   ]
  },
  {
   "cell_type": "code",
   "execution_count": 16,
   "metadata": {},
   "outputs": [],
   "source": [
    "#open FASTA file\n",
    "\n",
    "import re\n",
    "f = open(\"nd5p.txt\")\n",
    "t = f.read()\n",
    "f.close()\n",
    "l = re.findall(\"(>.*)\\n([A-Zn\\n]*)\", t)\n",
    "\n",
    "names = [a.split(\"/\")[0][1:] for a,b in l]\n",
    "sequences = [b.replace(\"\\n\",\"\") for a,b in l]"
   ]
  },
  {
   "cell_type": "code",
   "execution_count": 17,
   "metadata": {},
   "outputs": [
    {
     "name": "stdout",
     "output_type": "stream",
     "text": [
      "['human', 'gorilla', 'pygmy.chimpanzee', 'common.chimpnazee', 'fin.whale', 'blue.whale', 'rat', 'mouse', 'opossum']\n"
     ]
    }
   ],
   "source": [
    "print(names)"
   ]
  },
  {
   "cell_type": "code",
   "execution_count": 18,
   "metadata": {},
   "outputs": [
    {
     "name": "stdout",
     "output_type": "stream",
     "text": [
      "MTMHTTMTTLTLTSLIPPILTTLVNPNKKNSYPHYVKSIVASTFIISLFPTTMFMCLDQEVIISNWHWATTQTTQLSLSFKLDYFSMMFIPVALFVTWSIMEFSLWYMNSDPNINQFFKYLLIFLITMLILVTANNLFQLFIGWEGVGIMSFLLISWWYARADANTAAIQAILYNRIGDIGFILALAWFILHSNSWDPQQMALLNANPSLTPLLGLLLAAAGKSAQLGLHPWLPSAMEGPTPVSALLHSSTMVVAGIFLLIRFHPLAENSPLIQTLTLCLGAITTLFAAVCALTQNDIKKIVAFSTSSQLGLMMVTIGINQPHLAFLHICTHAFFKAMLFMCSGSIIHNLNNEQDIRKMGGLLKTMPLTSTSLTIGSLALAGMPFLTGFYSKDHIIETANMSYTNAWALSITLIATSLTSAYSTRMILLTLTGQPRFPTLTNINENNPTLLNPIKRLAAGSLFAGFLITNNISPASPFQTTIPLYLKLTALAVTFLGLLTALDLNYLTNKLKMKSPLCTFYFSNMLGFYPSITHRTIPYLGLLTSQNLPLLLLDLTWLEKLLPKTISQHQISASIITSTQKGMIKLYFLSFFFPLILTLLLIT\n"
     ]
    }
   ],
   "source": [
    "print(sequences[0]) #nd5 for human (first sequence)"
   ]
  },
  {
   "cell_type": "code",
   "execution_count": 19,
   "metadata": {},
   "outputs": [
    {
     "data": {
      "image/png": "[encoded data removed]",
      "text/plain": [
       "<Figure size 720x288 with 1 Axes>"
      ]
     },
     "metadata": {
      "needs_background": "light"
     },
     "output_type": "display_data"
    }
   ],
   "source": [
    "t = dtree(sequences, names, seq_type = \"protein\")\n",
    "t.plot_tree(save = True)"
   ]
  }
 ],
 "metadata": {
  "kernelspec": {
   "display_name": "Python 3",
   "language": "python",
   "name": "python3"
  },
  "language_info": {
   "codemirror_mode": {
    "name": "ipython",
    "version": 3
   },
   "file_extension": ".py",
   "mimetype": "text/x-python",
   "name": "python",
   "nbconvert_exporter": "python",
   "pygments_lexer": "ipython3",
   "version": "3.8.5"
  }
 },
 "nbformat": 4,
 "nbformat_minor": 4
}
